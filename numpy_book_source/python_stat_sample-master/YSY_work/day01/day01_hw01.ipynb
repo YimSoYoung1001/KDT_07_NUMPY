{
 "cells": [
  {
   "cell_type": "markdown",
   "id": "93692389",
   "metadata": {},
   "source": [
    "######  과제      \n",
    "- 각 지하철 역별 평균 이용객 수         \n",
    "- 각 지하철 역별 이용객 수 의 표준편차         \n",
    "- 가장 많은 이용객이 있는 역의 이용객 수         \n",
    "- 이용객 수가 가장 많은 역의 이름         \n",
    "- 이용객 수가 가장 적은 역의 이름     \n",
    "- 이용객 수의 분포를 히스토그램으로 시각화하기"
   ]
  },
  {
   "cell_type": "code",
   "execution_count": 58,
   "id": "eaba2351",
   "metadata": {
    "ExecuteTime": {
     "end_time": "2024-02-18T04:44:32.656006Z",
     "start_time": "2024-02-18T04:44:32.495259700Z"
    }
   },
   "outputs": [],
   "source": [
    "import pandas as pd\n",
    "import numpy as np\n",
    "import matplotlib.pyplot as plt\n",
    "import koreanize_matplotlib"
   ]
  },
  {
   "cell_type": "code",
   "execution_count": 59,
   "id": "35b028fe",
   "metadata": {
    "ExecuteTime": {
     "end_time": "2024-02-18T04:44:32.657040600Z",
     "start_time": "2024-02-18T04:44:32.615217700Z"
    }
   },
   "outputs": [
    {
     "data": {
      "text/plain": "         역명  승차총승객수  하차총승객수\n0  4.19민주묘지    1964    1773\n1        가능    3917    3600\n2      가락시장    3306    4148\n3      가락시장    3871    4054\n4   가산디지털단지    5219    7054",
      "text/html": "<div>\n<style scoped>\n    .dataframe tbody tr th:only-of-type {\n        vertical-align: middle;\n    }\n\n    .dataframe tbody tr th {\n        vertical-align: top;\n    }\n\n    .dataframe thead th {\n        text-align: right;\n    }\n</style>\n<table border=\"1\" class=\"dataframe\">\n  <thead>\n    <tr style=\"text-align: right;\">\n      <th></th>\n      <th>역명</th>\n      <th>승차총승객수</th>\n      <th>하차총승객수</th>\n    </tr>\n  </thead>\n  <tbody>\n    <tr>\n      <th>0</th>\n      <td>4.19민주묘지</td>\n      <td>1964</td>\n      <td>1773</td>\n    </tr>\n    <tr>\n      <th>1</th>\n      <td>가능</td>\n      <td>3917</td>\n      <td>3600</td>\n    </tr>\n    <tr>\n      <th>2</th>\n      <td>가락시장</td>\n      <td>3306</td>\n      <td>4148</td>\n    </tr>\n    <tr>\n      <th>3</th>\n      <td>가락시장</td>\n      <td>3871</td>\n      <td>4054</td>\n    </tr>\n    <tr>\n      <th>4</th>\n      <td>가산디지털단지</td>\n      <td>5219</td>\n      <td>7054</td>\n    </tr>\n  </tbody>\n</table>\n</div>"
     },
     "execution_count": 59,
     "metadata": {},
     "output_type": "execute_result"
    }
   ],
   "source": [
    "file = './subway.csv'\n",
    "data = pd.read_csv(file, encoding='cp949', usecols = (2,3,4))\n",
    "data.head()"
   ]
  },
  {
   "cell_type": "code",
   "execution_count": 60,
   "id": "8fb00004",
   "metadata": {
    "scrolled": false,
    "ExecuteTime": {
     "end_time": "2024-02-18T04:44:32.658147100Z",
     "start_time": "2024-02-18T04:44:32.627411300Z"
    }
   },
   "outputs": [
    {
     "data": {
      "text/plain": "            역명  승차총승객수  하차총승객수  총이용객수\n0     4.19민주묘지    1964    1773   3737\n1           가능    3917    3600   7517\n2         가락시장    3306    4148   7454\n3         가락시장    3871    4054   7925\n4      가산디지털단지    5219    7054  12273\n..         ...     ...     ...    ...\n608         회룡    7555    7235  14790\n609  회현(남대문시장)   11719   12414  24133\n610      효창공원앞    1161    1565   2726\n611      효창공원앞    3131    2862   5993\n612  흑석(중앙대입구)    3639    4088   7727\n\n[613 rows x 4 columns]",
      "text/html": "<div>\n<style scoped>\n    .dataframe tbody tr th:only-of-type {\n        vertical-align: middle;\n    }\n\n    .dataframe tbody tr th {\n        vertical-align: top;\n    }\n\n    .dataframe thead th {\n        text-align: right;\n    }\n</style>\n<table border=\"1\" class=\"dataframe\">\n  <thead>\n    <tr style=\"text-align: right;\">\n      <th></th>\n      <th>역명</th>\n      <th>승차총승객수</th>\n      <th>하차총승객수</th>\n      <th>총이용객수</th>\n    </tr>\n  </thead>\n  <tbody>\n    <tr>\n      <th>0</th>\n      <td>4.19민주묘지</td>\n      <td>1964</td>\n      <td>1773</td>\n      <td>3737</td>\n    </tr>\n    <tr>\n      <th>1</th>\n      <td>가능</td>\n      <td>3917</td>\n      <td>3600</td>\n      <td>7517</td>\n    </tr>\n    <tr>\n      <th>2</th>\n      <td>가락시장</td>\n      <td>3306</td>\n      <td>4148</td>\n      <td>7454</td>\n    </tr>\n    <tr>\n      <th>3</th>\n      <td>가락시장</td>\n      <td>3871</td>\n      <td>4054</td>\n      <td>7925</td>\n    </tr>\n    <tr>\n      <th>4</th>\n      <td>가산디지털단지</td>\n      <td>5219</td>\n      <td>7054</td>\n      <td>12273</td>\n    </tr>\n    <tr>\n      <th>...</th>\n      <td>...</td>\n      <td>...</td>\n      <td>...</td>\n      <td>...</td>\n    </tr>\n    <tr>\n      <th>608</th>\n      <td>회룡</td>\n      <td>7555</td>\n      <td>7235</td>\n      <td>14790</td>\n    </tr>\n    <tr>\n      <th>609</th>\n      <td>회현(남대문시장)</td>\n      <td>11719</td>\n      <td>12414</td>\n      <td>24133</td>\n    </tr>\n    <tr>\n      <th>610</th>\n      <td>효창공원앞</td>\n      <td>1161</td>\n      <td>1565</td>\n      <td>2726</td>\n    </tr>\n    <tr>\n      <th>611</th>\n      <td>효창공원앞</td>\n      <td>3131</td>\n      <td>2862</td>\n      <td>5993</td>\n    </tr>\n    <tr>\n      <th>612</th>\n      <td>흑석(중앙대입구)</td>\n      <td>3639</td>\n      <td>4088</td>\n      <td>7727</td>\n    </tr>\n  </tbody>\n</table>\n<p>613 rows × 4 columns</p>\n</div>"
     },
     "execution_count": 60,
     "metadata": {},
     "output_type": "execute_result"
    }
   ],
   "source": [
    "data['총이용객수'] = data['승차총승객수'] + data['하차총승객수']\n",
    "data"
   ]
  },
  {
   "cell_type": "code",
   "execution_count": 61,
   "id": "c57f2244",
   "metadata": {
    "ExecuteTime": {
     "end_time": "2024-02-18T04:44:32.659157400Z",
     "start_time": "2024-02-18T04:44:32.635833900Z"
    }
   },
   "outputs": [
    {
     "data": {
      "text/plain": "0    4.19민주묘지\n1          가능\n2        가락시장\n3        가락시장\n4     가산디지털단지\nName: 역명, dtype: object"
     },
     "execution_count": 61,
     "metadata": {},
     "output_type": "execute_result"
    }
   ],
   "source": [
    "station = data['역명']\n",
    "station.head()"
   ]
  },
  {
   "cell_type": "code",
   "execution_count": 62,
   "id": "47f3024b",
   "metadata": {
    "ExecuteTime": {
     "end_time": "2024-02-18T04:44:32.686899600Z",
     "start_time": "2024-02-18T04:44:32.646326200Z"
    }
   },
   "outputs": [
    {
     "data": {
      "text/plain": "역명\n서울역               5\n공덕                4\n김포공항              4\n디지털미디어시티          3\n동대문역사문화공원(DDP)    3\nName: count, dtype: int64"
     },
     "execution_count": 62,
     "metadata": {},
     "output_type": "execute_result"
    }
   ],
   "source": [
    "result = station.value_counts()\n",
    "result.head()"
   ]
  },
  {
   "cell_type": "code",
   "execution_count": 63,
   "id": "646cab53",
   "metadata": {
    "ExecuteTime": {
     "end_time": "2024-02-18T04:44:32.748225900Z",
     "start_time": "2024-02-18T04:44:32.691022100Z"
    }
   },
   "outputs": [
    {
     "data": {
      "text/plain": "Index(['서울역', '공덕', '김포공항', '디지털미디어시티', '동대문역사문화공원(DDP)', '신설동', '종로3가',\n       '고속터미널', '왕십리(성동구청)', '홍대입구',\n       ...\n       '방학', '방이', '방배', '발산', '반포', '반월', '미아사거리', '미아(서울사이버대학)', '미사',\n       '흑석(중앙대입구)'],\n      dtype='object', name='역명', length=526)"
     },
     "execution_count": 63,
     "metadata": {},
     "output_type": "execute_result"
    }
   ],
   "source": [
    "result.index"
   ]
  },
  {
   "cell_type": "code",
   "execution_count": 64,
   "id": "2ee95000",
   "metadata": {
    "ExecuteTime": {
     "end_time": "2024-02-18T04:44:32.837565600Z",
     "start_time": "2024-02-18T04:44:32.751709600Z"
    }
   },
   "outputs": [
    {
     "data": {
      "text/plain": "Index(['서울역', '공덕', '김포공항', '디지털미디어시티', '동대문역사문화공원(DDP)', '신설동', '종로3가',\n       '고속터미널', '왕십리(성동구청)', '홍대입구'],\n      dtype='object', name='역명')"
     },
     "execution_count": 64,
     "metadata": {},
     "output_type": "execute_result"
    }
   ],
   "source": [
    "station_list = result.index\n",
    "station_list[:10]"
   ]
  },
  {
   "cell_type": "code",
   "execution_count": 65,
   "id": "b9c703c6",
   "metadata": {
    "ExecuteTime": {
     "end_time": "2024-02-18T04:44:32.938481600Z",
     "start_time": "2024-02-18T04:44:32.840645800Z"
    }
   },
   "outputs": [],
   "source": [
    "count_dict = {}\n",
    "\n",
    "for i in range(data.shape[0]):\n",
    "    #print(data.iloc[i][0], data.iloc[i][3])\n",
    "    station = data.iloc[i][0]\n",
    "    people = data.iloc[i][3]\n",
    "    #print(station)\n",
    "    #print(people)\n",
    "    \n",
    "    if station not in count_dict.keys():\n",
    "        count_dict[station] = people\n",
    "        \n",
    "    else:\n",
    "        count_dict[station] = count_dict[station] + people\n"
   ]
  },
  {
   "cell_type": "code",
   "execution_count": 66,
   "id": "aabed114",
   "metadata": {
    "ExecuteTime": {
     "end_time": "2024-02-18T04:44:32.940477100Z",
     "start_time": "2024-02-18T04:44:32.914775400Z"
    }
   },
   "outputs": [
    {
     "data": {
      "text/plain": "{'4.19민주묘지': 3737,\n '가능': 7517,\n '가락시장': 15379,\n '가산디지털단지': 32684,\n '가양': 20046,\n '가오리': 4479,\n '가좌': 5894,\n '가천대': 6548,\n '가평': 3255,\n '간석': 6659,\n '갈매': 2680,\n '강남': 61040,\n '강남구청': 13907,\n '강동': 16659,\n '강동구청': 9188,\n '강매': 3018,\n '강변(동서울터미널)': 45164,\n '강일': 5741,\n '강촌': 874,\n '개롱': 5806,\n '개봉': 23465,\n '개포동': 4175,\n '개화': 2083,\n '개화산': 6021,\n '거여': 8612,\n '건대입구': 66879,\n '검암': 7264,\n '경기광주': 8831,\n '경마공원': 957,\n '경복궁(정부서울청사)': 35556,\n '경찰병원': 6128,\n '계양': 13189,\n '고덕': 9529,\n '고려대(종암)': 6956,\n '고색': 4269,\n '고속터미널': 152970,\n '고잔': 8555,\n '곡산': 747,\n '곤지암': 3819,\n '공덕': 31692,\n '공릉(서울과학기술대)': 12311,\n '공항시장': 3455,\n '공항화물청사': 1953,\n '과천': 7014,\n '관악': 9623,\n '관악산(서울대)': 5549,\n '광나루(장신대)': 13742,\n '광명': 5845,\n '광명사거리': 22116,\n '광운대': 8429,\n '광화문(세종문화회관)': 30172,\n '광흥창(서강)': 6898,\n '교대(법원.검찰청)': 27748,\n '구로': 19636,\n '구로디지털단지': 47425,\n '구룡': 2539,\n '구리': 15470,\n '구반포': 674,\n '구산': 7215,\n '구성': 5232,\n '구의(광진구청)': 22600,\n '구일': 6208,\n '구파발': 24874,\n '국수': 949,\n '국회의사당': 5727,\n '군자(능동)': 26802,\n '군포': 6226,\n '굴봉산': 261,\n '굽은다리(강동구민회관앞)': 10959,\n '금곡': 1612,\n '금릉': 6648,\n '금정': 30936,\n '금천구청': 12371,\n '금촌': 9471,\n '금호': 8353,\n '기흥': 10151,\n '길동': 8674,\n '길음': 20581,\n '김유정': 750,\n '김포공항': 52751,\n '까치산': 29781,\n '낙성대(강감찬)': 27462,\n '남구로': 13121,\n '남동인더스파크': 1139,\n '남부터미널(예술의전당)': 33102,\n '남성': 11014,\n '남영': 8089,\n '남위례': 6600,\n '남춘천': 5775,\n '남태령': 1342,\n '남한산성입구(성남법원.검찰청)': 12309,\n '내방': 10024,\n '노들': 4328,\n '노량진': 40290,\n '노원': 67060,\n '녹번': 13754,\n '녹사평(용산구청)': 6319,\n '녹양': 5225,\n '녹천': 4023,\n '논현': 12417,\n '능곡': 5274,\n '단대오거리': 11934,\n '달월': 140,\n '답십리': 13665,\n '당고개': 11158,\n '당곡': 4883,\n '당산': 33373,\n '당정': 6192,\n '대곡': 2605,\n '대공원': 10449,\n '대림(구로구청)': 47948,\n '대모산입구': 5087,\n '대방': 12059,\n '대성리': 823,\n '대야미': 5782,\n '대청': 9183,\n '대치': 11396,\n '대화': 11477,\n '대흥(서강대앞)': 7161,\n '덕계': 5835,\n '덕소': 6760,\n '덕정': 7259,\n '도곡': 10605,\n '도농': 10858,\n '도림천': 1187,\n '도봉': 6460,\n '도봉산': 25062,\n '도심': 2285,\n '도원': 3645,\n '도화': 4621,\n '독립문': 9418,\n '독바위': 3160,\n '독산': 12576,\n '돌곶이': 11272,\n '동대문': 34714,\n '동대문역사문화공원(DDP)': 43174,\n '동대입구': 14361,\n '동두천': 2229,\n '동두천중앙': 4064,\n '동묘앞': 37172,\n '동암': 19677,\n '동인천': 18259,\n '동작(현충원)': 5167,\n '두정': 10652,\n '둔촌동': 8351,\n '둔촌오륜': 891,\n '등촌': 10430,\n '디지털미디어시티': 22741,\n '뚝섬': 20838,\n '뚝섬유원지': 11950,\n '마곡': 8094,\n '마곡나루(서울식물원)': 19531,\n '마두': 7540,\n '마들': 12327,\n '마석': 4734,\n '마장': 5385,\n '마천': 7097,\n '마포': 11074,\n '마포구청': 12227,\n '망우': 9220,\n '망원': 19012,\n '망월사': 8385,\n '망포': 14288,\n '매교': 4988,\n '매봉': 8258,\n '매탄권선': 5564,\n '먹골': 10477,\n '면목': 15023,\n '명동': 49462,\n '명일': 8820,\n '명학': 6202,\n '모란': 27174,\n '목동': 14780,\n '몽촌토성(평화의문)': 6384,\n '무악재': 4437,\n '문래': 15260,\n '문산': 7624,\n '문정': 9948,\n '미금': 15196,\n '미사': 20049,\n '미아(서울사이버대학)': 15129,\n '미아사거리': 31739,\n '반월': 5070,\n '반포': 6288,\n '발산': 19846,\n '방배': 10831,\n '방이': 6682,\n '방학': 11656,\n '방화': 7395,\n '배방': 2093,\n '백마': 7349,\n '백석': 11794,\n '백양리': 845,\n '백운': 8422,\n '버티고개': 2132,\n '범계': 30951,\n '별내': 3434,\n '병점': 22216,\n '보라매': 9673,\n '보라매공원': 2119,\n '보라매병원': 4510,\n '보문': 9401,\n '보산': 2696,\n '보정': 2492,\n '복정': 7029,\n '봉명': 1641,\n '봉은사': 19310,\n '봉천': 23478,\n '봉화산(서울의료원)': 7759,\n '부개': 9457,\n '부발': 3530,\n '부천': 45512,\n '부천종합운동장': 2067,\n '부평': 48056,\n '북한산보국문': 6934,\n '북한산우이': 6620,\n '불광': 27481,\n '사가정': 16894,\n '사당': 71964,\n '사릉': 2379,\n '사리': 5821,\n '사평': 3435,\n '산본': 19960,\n '산성': 6797,\n '삼각지': 13423,\n '삼동': 2326,\n '삼성(무역센터)': 37135,\n '삼성중앙': 4182,\n '삼송': 23198,\n '삼양': 2346,\n '삼양사거리': 3082,\n '삼전': 7481,\n '상갈': 6068,\n '상계': 20728,\n '상도': 9905,\n '상록수': 18001,\n '상봉': 26850,\n '상수': 13256,\n '상왕십리': 13458,\n '상월곡(한국과학기술연구원)': 5619,\n '상일동': 13091,\n '상천': 387,\n '새절(신사)': 12538,\n '샛강': 5867,\n '서강대': 2216,\n '서대문': 9916,\n '서동탄': 2129,\n '서빙고': 1812,\n '서울대벤처타운': 10788,\n '서울대입구(관악구청)': 46842,\n '서울숲': 12119,\n '서울역': 128280,\n '서울지방병무청': 3016,\n '서원': 3674,\n '서정리': 13446,\n '서초': 10106,\n '서현': 27805,\n '석계': 22638,\n '석수': 9243,\n '석촌': 18971,\n '석촌고분': 6766,\n '선릉': 30957,\n '선바위': 6137,\n '선유도': 5712,\n '선정릉': 9076,\n '성균관대': 17900,\n '성수': 40847,\n '성신여대입구(돈암)': 29817,\n '성환': 6352,\n '세류': 5169,\n '세마': 4090,\n '세종대왕릉': 620,\n '소래포구': 7848,\n '소사': 9150,\n '소요산': 4856,\n '솔밭공원': 2916,\n '솔샘': 5657,\n '송내': 24953,\n '송도': 3140,\n '송정': 7035,\n '송탄': 8294,\n '송파': 8857,\n '송파나루': 6064,\n '수내': 11736,\n '수락산': 14762,\n '수리산': 3902,\n '수색': 2534,\n '수서': 38754,\n '수원': 92979,\n '수원시청': 14856,\n '수유(강북구청)': 39914,\n '수진': 5408,\n '숙대입구(갈월)': 11843,\n '숭실대입구(살피재)': 11545,\n '숭의': 4272,\n '시청': 38492,\n '신갈': 4067,\n '신금호': 6091,\n '신길': 12441,\n '신길온천': 2681,\n '신내': 2193,\n '신논현': 31105,\n '신답': 1548,\n '신당': 26160,\n '신대방': 28571,\n '신대방삼거리': 14211,\n '신도림': 54927,\n '신둔도예촌': 1952,\n '신림': 64320,\n '신목동': 3414,\n '신반포': 3315,\n '신방화': 6990,\n '신사': 23603,\n '신설동': 20579,\n '신용산': 22005,\n '신원': 239,\n '신이문': 8801,\n '신정(은행정)': 11905,\n '신정네거리': 10620,\n '신창(순천향대)': 1949,\n '신촌': 41497,\n '신포': 2375,\n '신풍': 10285,\n '신흥': 6296,\n '쌍문': 29921,\n '쌍용(나사렛대)': 3098,\n '아산': 6766,\n '아신': 877,\n '아차산(어린이대공원후문)': 19171,\n '아현': 9867,\n '안국': 32646,\n '안산': 20653,\n '안암(고대병원앞)': 8652,\n '안양': 26675,\n '암사': 17091,\n '압구정': 28212,\n '압구정로데오': 18676,\n '애오개': 5003,\n '야당': 11817,\n '야목': 409,\n '야탑': 26539,\n '약수': 16913,\n '양수': 3098,\n '양원': 2791,\n '양재(서초구청)': 24616,\n '양정': 520,\n '양주': 9462,\n '양천구청': 6766,\n '양천향교': 8541,\n '양평': 9902,\n '어린이대공원(세종대)': 13258,\n '어천': 2073,\n '언주': 5602,\n '여의나루': 15862,\n '여의도': 37535,\n '여주': 4997,\n '역곡': 28364,\n '역삼': 20537,\n '역촌': 4293,\n '연수': 6129,\n '연신내': 39224,\n '연천': 3885,\n '염창': 16886,\n '영등포': 71256,\n '영등포구청': 19220,\n '영등포시장': 11074,\n '영종': 5637,\n '영통': 9873,\n '오금': 7555,\n '오류동': 12901,\n '오리': 10012,\n '오목교(목동운동장앞)': 22770,\n '오목천': 3952,\n '오빈': 360,\n '오산': 18543,\n '오산대': 4927,\n '오이도': 11860,\n '옥수': 10463,\n '온수(성공회대입구)': 14052,\n '온양온천': 10302,\n '올림픽공원(한국체대)': 10531,\n '왕십리(성동구청)': 42154,\n '외대앞': 8691,\n '용답': 3070,\n '용두(동대문구청)': 2187,\n '용마산(용마폭포공원)': 6423,\n '용문': 3445,\n '용산': 77413,\n '우장산': 13882,\n '운길산': 1508,\n '운서': 14330,\n '운정': 8136,\n '운천': 13,\n '원당': 12326,\n '원덕': 628,\n '원인재': 5631,\n '원종': 5792,\n '원흥': 11528,\n '월계': 7070,\n '월곡(동덕여대)': 10321,\n '월곶': 3382,\n '월드컵경기장(성산)': 7773,\n '월롱': 2053,\n '을지로3가': 25917,\n '을지로4가': 13364,\n '을지로입구': 46631,\n '응봉': 2317,\n '응암': 18636,\n '의왕': 9030,\n '의정부': 28554,\n '이대': 15509,\n '이매': 6821,\n '이수': 15668,\n '이천': 5220,\n '이촌(국립중앙박물관)': 16609,\n '이태원': 17269,\n '인덕원': 22139,\n '인천': 11322,\n '인천공항1터미널': 25972,\n '인천공항2터미널': 11535,\n '인천논현': 6474,\n '인하대': 6518,\n '일산': 11185,\n '일원': 7721,\n '임진강': 125,\n '잠실(송파구청)': 128526,\n '잠실나루': 10585,\n '잠실새내': 23949,\n '잠원': 4465,\n '장승배기': 8419,\n '장암': 2008,\n '장지': 18343,\n '장한평': 15432,\n '전곡': 2311,\n '정릉': 5151,\n '정발산': 9109,\n '정부과천청사': 8848,\n '정왕': 12726,\n '정자': 14742,\n '제기동': 19460,\n '제물포': 10431,\n '종각': 30099,\n '종로3가': 70523,\n '종로5가': 26109,\n '종합운동장': 10794,\n '주안': 22828,\n '주엽': 10407,\n '죽전': 16604,\n '중계': 12577,\n '중곡': 9987,\n '중동': 10139,\n '중랑': 6409,\n '중앙': 25457,\n '중앙보훈병원': 7673,\n '중화': 10196,\n '증미': 4963,\n '증산(명지대앞)': 10856,\n '지축': 6836,\n '지평': 87,\n '지행': 9300,\n '직산': 1446,\n '진위': 1931,\n '창동': 29737,\n '창신': 3001,\n '천마산': 1945,\n '천안': 13873,\n '천왕': 9548,\n '천호(풍납토성)': 42474,\n '철산': 20131,\n '청구': 6756,\n '청담': 11010,\n '청라국제도시': 7804,\n '청량리(서울시립대입구)': 58078,\n '청명': 4361,\n '청산': 211,\n '청평': 2878,\n '초월': 3699,\n '초지': 5508,\n '총신대입구(이수)': 21036,\n '춘천': 3115,\n '충무로': 22553,\n '충정로(경기대입구)': 8989,\n '탄현': 8405,\n '탕정': 2221,\n '태릉입구': 16164,\n '태평': 15318,\n '퇴계원': 3716,\n '파주': 1473,\n '판교': 7004,\n '팔당': 2196,\n '평내호평': 6794,\n '평촌': 12779,\n '평택': 27190,\n '평택지제': 7195,\n '풍산': 7151,\n '하계': 17089,\n '하남검단산': 10361,\n '하남시청(덕풍?신장)': 9153,\n '하남풍산': 4422,\n '학동': 9466,\n '학여울': 1411,\n '한강진': 12259,\n '한국항공대': 1651,\n '한남': 3951,\n '한대앞': 10201,\n '한성대입구(삼선교)': 14505,\n '한성백제': 2673,\n '한양대': 4871,\n '한티': 15209,\n '합정': 55171,\n '행당': 7110,\n '행신': 9543,\n '혜화': 45560,\n '호구포': 3611,\n '홍대입구': 153141,\n '홍제': 19099,\n '화계': 4062,\n '화곡': 27700,\n '화랑대(서울여대입구)': 9117,\n '화서': 36784,\n '화정': 19577,\n '회기': 26217,\n '회룡': 14790,\n '회현(남대문시장)': 24133,\n '효창공원앞': 8719,\n '흑석(중앙대입구)': 7727}"
     },
     "execution_count": 66,
     "metadata": {},
     "output_type": "execute_result"
    }
   ],
   "source": [
    "count_dict"
   ]
  },
  {
   "cell_type": "code",
   "execution_count": 67,
   "id": "00ac2cd1",
   "metadata": {
    "ExecuteTime": {
     "end_time": "2024-02-18T04:44:32.945654900Z",
     "start_time": "2024-02-18T04:44:32.927616900Z"
    }
   },
   "outputs": [],
   "source": [
    "subway = []\n",
    "for k, v in count_dict.items():\n",
    "    result = []\n",
    "    result.append(k)\n",
    "    result.append(v)\n",
    "    subway.append(result)\n",
    "    \n",
    "#subway"
   ]
  },
  {
   "cell_type": "code",
   "execution_count": 68,
   "id": "b8958f25",
   "metadata": {
    "ExecuteTime": {
     "end_time": "2024-02-18T04:44:33.020340800Z",
     "start_time": "2024-02-18T04:44:32.954476800Z"
    }
   },
   "outputs": [
    {
     "data": {
      "text/plain": "       station  people\n0     4.19민주묘지    3737\n1           가능    7517\n2         가락시장   15379\n3      가산디지털단지   32684\n4           가양   20046\n..         ...     ...\n521         회기   26217\n522         회룡   14790\n523  회현(남대문시장)   24133\n524      효창공원앞    8719\n525  흑석(중앙대입구)    7727\n\n[526 rows x 2 columns]",
      "text/html": "<div>\n<style scoped>\n    .dataframe tbody tr th:only-of-type {\n        vertical-align: middle;\n    }\n\n    .dataframe tbody tr th {\n        vertical-align: top;\n    }\n\n    .dataframe thead th {\n        text-align: right;\n    }\n</style>\n<table border=\"1\" class=\"dataframe\">\n  <thead>\n    <tr style=\"text-align: right;\">\n      <th></th>\n      <th>station</th>\n      <th>people</th>\n    </tr>\n  </thead>\n  <tbody>\n    <tr>\n      <th>0</th>\n      <td>4.19민주묘지</td>\n      <td>3737</td>\n    </tr>\n    <tr>\n      <th>1</th>\n      <td>가능</td>\n      <td>7517</td>\n    </tr>\n    <tr>\n      <th>2</th>\n      <td>가락시장</td>\n      <td>15379</td>\n    </tr>\n    <tr>\n      <th>3</th>\n      <td>가산디지털단지</td>\n      <td>32684</td>\n    </tr>\n    <tr>\n      <th>4</th>\n      <td>가양</td>\n      <td>20046</td>\n    </tr>\n    <tr>\n      <th>...</th>\n      <td>...</td>\n      <td>...</td>\n    </tr>\n    <tr>\n      <th>521</th>\n      <td>회기</td>\n      <td>26217</td>\n    </tr>\n    <tr>\n      <th>522</th>\n      <td>회룡</td>\n      <td>14790</td>\n    </tr>\n    <tr>\n      <th>523</th>\n      <td>회현(남대문시장)</td>\n      <td>24133</td>\n    </tr>\n    <tr>\n      <th>524</th>\n      <td>효창공원앞</td>\n      <td>8719</td>\n    </tr>\n    <tr>\n      <th>525</th>\n      <td>흑석(중앙대입구)</td>\n      <td>7727</td>\n    </tr>\n  </tbody>\n</table>\n<p>526 rows × 2 columns</p>\n</div>"
     },
     "execution_count": 68,
     "metadata": {},
     "output_type": "execute_result"
    }
   ],
   "source": [
    "subway_df = pd.DataFrame(subway)\n",
    "subway_df.columns = ['station', 'people']\n",
    "subway_df"
   ]
  },
  {
   "cell_type": "code",
   "execution_count": 69,
   "id": "72845fe1",
   "metadata": {
    "ExecuteTime": {
     "end_time": "2024-02-18T04:44:33.044020200Z",
     "start_time": "2024-02-18T04:44:33.004683300Z"
    }
   },
   "outputs": [
    {
     "data": {
      "text/plain": "           people\nstation          \n4.19민주묘지     3737\n가능           7517\n가락시장        15379\n가산디지털단지     32684\n가양          20046\n...           ...\n회기          26217\n회룡          14790\n회현(남대문시장)   24133\n효창공원앞        8719\n흑석(중앙대입구)    7727\n\n[526 rows x 1 columns]",
      "text/html": "<div>\n<style scoped>\n    .dataframe tbody tr th:only-of-type {\n        vertical-align: middle;\n    }\n\n    .dataframe tbody tr th {\n        vertical-align: top;\n    }\n\n    .dataframe thead th {\n        text-align: right;\n    }\n</style>\n<table border=\"1\" class=\"dataframe\">\n  <thead>\n    <tr style=\"text-align: right;\">\n      <th></th>\n      <th>people</th>\n    </tr>\n    <tr>\n      <th>station</th>\n      <th></th>\n    </tr>\n  </thead>\n  <tbody>\n    <tr>\n      <th>4.19민주묘지</th>\n      <td>3737</td>\n    </tr>\n    <tr>\n      <th>가능</th>\n      <td>7517</td>\n    </tr>\n    <tr>\n      <th>가락시장</th>\n      <td>15379</td>\n    </tr>\n    <tr>\n      <th>가산디지털단지</th>\n      <td>32684</td>\n    </tr>\n    <tr>\n      <th>가양</th>\n      <td>20046</td>\n    </tr>\n    <tr>\n      <th>...</th>\n      <td>...</td>\n    </tr>\n    <tr>\n      <th>회기</th>\n      <td>26217</td>\n    </tr>\n    <tr>\n      <th>회룡</th>\n      <td>14790</td>\n    </tr>\n    <tr>\n      <th>회현(남대문시장)</th>\n      <td>24133</td>\n    </tr>\n    <tr>\n      <th>효창공원앞</th>\n      <td>8719</td>\n    </tr>\n    <tr>\n      <th>흑석(중앙대입구)</th>\n      <td>7727</td>\n    </tr>\n  </tbody>\n</table>\n<p>526 rows × 1 columns</p>\n</div>"
     },
     "execution_count": 69,
     "metadata": {},
     "output_type": "execute_result"
    }
   ],
   "source": [
    "sub = subway_df.set_index(['station'])\n",
    "sub"
   ]
  },
  {
   "cell_type": "code",
   "execution_count": 70,
   "id": "3e6e7c1a",
   "metadata": {
    "ExecuteTime": {
     "end_time": "2024-02-18T04:44:33.094605400Z",
     "start_time": "2024-02-18T04:44:33.047118600Z"
    }
   },
   "outputs": [
    {
     "data": {
      "text/plain": "people    14312.0\ndtype: float64"
     },
     "execution_count": 70,
     "metadata": {},
     "output_type": "execute_result"
    }
   ],
   "source": [
    "#각 지하철 역별 평균 이용객 수     ===> 14,312명\n",
    "sub.mean()\n",
    "sub.mean().round()"
   ]
  },
  {
   "cell_type": "code",
   "execution_count": 71,
   "id": "bcb5f42d",
   "metadata": {
    "ExecuteTime": {
     "end_time": "2024-02-18T04:44:33.139951800Z",
     "start_time": "2024-02-18T04:44:33.070823600Z"
    }
   },
   "outputs": [
    {
     "data": {
      "text/plain": "            people\nstation           \n4.19민주묘지    61.131\n가능          86.701\n가락시장       124.012\n가산디지털단지    180.787\n가양         141.584\n...            ...\n회기         161.917\n회룡         121.614\n회현(남대문시장)  155.348\n효창공원앞       93.376\n흑석(중앙대입구)   87.903\n\n[526 rows x 1 columns]",
      "text/html": "<div>\n<style scoped>\n    .dataframe tbody tr th:only-of-type {\n        vertical-align: middle;\n    }\n\n    .dataframe tbody tr th {\n        vertical-align: top;\n    }\n\n    .dataframe thead th {\n        text-align: right;\n    }\n</style>\n<table border=\"1\" class=\"dataframe\">\n  <thead>\n    <tr style=\"text-align: right;\">\n      <th></th>\n      <th>people</th>\n    </tr>\n    <tr>\n      <th>station</th>\n      <th></th>\n    </tr>\n  </thead>\n  <tbody>\n    <tr>\n      <th>4.19민주묘지</th>\n      <td>61.131</td>\n    </tr>\n    <tr>\n      <th>가능</th>\n      <td>86.701</td>\n    </tr>\n    <tr>\n      <th>가락시장</th>\n      <td>124.012</td>\n    </tr>\n    <tr>\n      <th>가산디지털단지</th>\n      <td>180.787</td>\n    </tr>\n    <tr>\n      <th>가양</th>\n      <td>141.584</td>\n    </tr>\n    <tr>\n      <th>...</th>\n      <td>...</td>\n    </tr>\n    <tr>\n      <th>회기</th>\n      <td>161.917</td>\n    </tr>\n    <tr>\n      <th>회룡</th>\n      <td>121.614</td>\n    </tr>\n    <tr>\n      <th>회현(남대문시장)</th>\n      <td>155.348</td>\n    </tr>\n    <tr>\n      <th>효창공원앞</th>\n      <td>93.376</td>\n    </tr>\n    <tr>\n      <th>흑석(중앙대입구)</th>\n      <td>87.903</td>\n    </tr>\n  </tbody>\n</table>\n<p>526 rows × 1 columns</p>\n</div>"
     },
     "execution_count": 71,
     "metadata": {},
     "output_type": "execute_result"
    }
   ],
   "source": [
    "# 각 지하철 역별 이용객 수 의 표준편차\n",
    "np.sqrt(sub)\n",
    "np.sqrt(sub).round(3)"
   ]
  },
  {
   "cell_type": "code",
   "outputs": [
    {
     "data": {
      "text/plain": "          people\nstation         \n운천            13\n지평            87\n임진강          125\n달월           140\n청산           211\n...          ...\n수원         92979\n서울역       128280\n잠실(송파구청)  128526\n고속터미널     152970\n홍대입구      153141\n\n[526 rows x 1 columns]",
      "text/html": "<div>\n<style scoped>\n    .dataframe tbody tr th:only-of-type {\n        vertical-align: middle;\n    }\n\n    .dataframe tbody tr th {\n        vertical-align: top;\n    }\n\n    .dataframe thead th {\n        text-align: right;\n    }\n</style>\n<table border=\"1\" class=\"dataframe\">\n  <thead>\n    <tr style=\"text-align: right;\">\n      <th></th>\n      <th>people</th>\n    </tr>\n    <tr>\n      <th>station</th>\n      <th></th>\n    </tr>\n  </thead>\n  <tbody>\n    <tr>\n      <th>운천</th>\n      <td>13</td>\n    </tr>\n    <tr>\n      <th>지평</th>\n      <td>87</td>\n    </tr>\n    <tr>\n      <th>임진강</th>\n      <td>125</td>\n    </tr>\n    <tr>\n      <th>달월</th>\n      <td>140</td>\n    </tr>\n    <tr>\n      <th>청산</th>\n      <td>211</td>\n    </tr>\n    <tr>\n      <th>...</th>\n      <td>...</td>\n    </tr>\n    <tr>\n      <th>수원</th>\n      <td>92979</td>\n    </tr>\n    <tr>\n      <th>서울역</th>\n      <td>128280</td>\n    </tr>\n    <tr>\n      <th>잠실(송파구청)</th>\n      <td>128526</td>\n    </tr>\n    <tr>\n      <th>고속터미널</th>\n      <td>152970</td>\n    </tr>\n    <tr>\n      <th>홍대입구</th>\n      <td>153141</td>\n    </tr>\n  </tbody>\n</table>\n<p>526 rows × 1 columns</p>\n</div>"
     },
     "execution_count": 72,
     "metadata": {},
     "output_type": "execute_result"
    }
   ],
   "source": [
    "result = sub.sort_values(by='people')\n",
    "result"
   ],
   "metadata": {
    "collapsed": false,
    "ExecuteTime": {
     "end_time": "2024-02-18T04:44:33.183457500Z",
     "start_time": "2024-02-18T04:44:33.126077300Z"
    }
   },
   "id": "f5ca0a1715137ae8",
   "execution_count": 72
  },
  {
   "cell_type": "code",
   "execution_count": 73,
   "id": "0ac9daf8",
   "metadata": {
    "ExecuteTime": {
     "end_time": "2024-02-18T04:44:33.219892400Z",
     "start_time": "2024-02-18T04:44:33.146138900Z"
    }
   },
   "outputs": [
    {
     "data": {
      "text/plain": "          people\nstation         \n수원         92979\n서울역       128280\n잠실(송파구청)  128526\n고속터미널     152970\n홍대입구      153141",
      "text/html": "<div>\n<style scoped>\n    .dataframe tbody tr th:only-of-type {\n        vertical-align: middle;\n    }\n\n    .dataframe tbody tr th {\n        vertical-align: top;\n    }\n\n    .dataframe thead th {\n        text-align: right;\n    }\n</style>\n<table border=\"1\" class=\"dataframe\">\n  <thead>\n    <tr style=\"text-align: right;\">\n      <th></th>\n      <th>people</th>\n    </tr>\n    <tr>\n      <th>station</th>\n      <th></th>\n    </tr>\n  </thead>\n  <tbody>\n    <tr>\n      <th>수원</th>\n      <td>92979</td>\n    </tr>\n    <tr>\n      <th>서울역</th>\n      <td>128280</td>\n    </tr>\n    <tr>\n      <th>잠실(송파구청)</th>\n      <td>128526</td>\n    </tr>\n    <tr>\n      <th>고속터미널</th>\n      <td>152970</td>\n    </tr>\n    <tr>\n      <th>홍대입구</th>\n      <td>153141</td>\n    </tr>\n  </tbody>\n</table>\n</div>"
     },
     "execution_count": 73,
     "metadata": {},
     "output_type": "execute_result"
    }
   ],
   "source": [
    "result.tail()\n",
    "\n",
    "# 가장 많은 이용객이 있는 역의 이용객 수      ====> '홍대입구'역에서 153,141명의 사람이 이용함\n",
    "# 이용객 수가 가장 많은 역의 이름             ====> '홍대입구'역\n"
   ]
  },
  {
   "cell_type": "code",
   "outputs": [
    {
     "data": {
      "text/plain": "         people\nstation        \n운천           13\n지평           87\n임진강         125\n달월          140\n청산          211",
      "text/html": "<div>\n<style scoped>\n    .dataframe tbody tr th:only-of-type {\n        vertical-align: middle;\n    }\n\n    .dataframe tbody tr th {\n        vertical-align: top;\n    }\n\n    .dataframe thead th {\n        text-align: right;\n    }\n</style>\n<table border=\"1\" class=\"dataframe\">\n  <thead>\n    <tr style=\"text-align: right;\">\n      <th></th>\n      <th>people</th>\n    </tr>\n    <tr>\n      <th>station</th>\n      <th></th>\n    </tr>\n  </thead>\n  <tbody>\n    <tr>\n      <th>운천</th>\n      <td>13</td>\n    </tr>\n    <tr>\n      <th>지평</th>\n      <td>87</td>\n    </tr>\n    <tr>\n      <th>임진강</th>\n      <td>125</td>\n    </tr>\n    <tr>\n      <th>달월</th>\n      <td>140</td>\n    </tr>\n    <tr>\n      <th>청산</th>\n      <td>211</td>\n    </tr>\n  </tbody>\n</table>\n</div>"
     },
     "execution_count": 74,
     "metadata": {},
     "output_type": "execute_result"
    }
   ],
   "source": [
    "# 이용객 수가 가장 적은 역의 이름           ====> '운천'역\n",
    "result.head()"
   ],
   "metadata": {
    "ExecuteTime": {
     "end_time": "2024-02-18T04:44:33.308301600Z",
     "start_time": "2024-02-18T04:44:33.189985200Z"
    }
   },
   "id": "a02eaf9e",
   "execution_count": 74
  },
  {
   "cell_type": "code",
   "outputs": [
    {
     "data": {
      "text/plain": "<Figure size 2000x600 with 1 Axes>",
      "image/png": "[encoded data removed]"
     },
     "metadata": {},
     "output_type": "display_data"
    }
   ],
   "source": [
    "# 이용객 수의 분포를 히스토그램으로 시각화하기\n",
    "\n",
    "fig = plt.figure(figsize = (20,6))\n",
    "ax = fig.add_subplot(111)\n",
    "\n",
    "#계급수를 25로 설정\n",
    "ax.hist\n",
    "\n",
    "ax.hist(result, bins = 16, range = (0, 160000), color = 'royalblue')\n",
    "ax.set_xlabel('person', fontsize = 'xx-large')\n",
    "ax.set_ylabel('station number', fontsize = 'xx-large')\n",
    "\n",
    "#눈금 표시\n",
    "ax.set_xticks(np.linspace(0,160000, 16+1))\n",
    "ax.set_yticks(np.linspace(0,300,10+1))\n",
    "ax.grid()\n",
    "\n",
    "ax.set_title('이용객 수에 따른 역의 분포를 그린 히스토그램', fontsize = 'xx-large')\n",
    "\n",
    "plt.show()"
   ],
   "metadata": {
    "ExecuteTime": {
     "end_time": "2024-02-18T04:47:30.046165Z",
     "start_time": "2024-02-18T04:47:29.852273500Z"
    }
   },
   "id": "ceb13ccf",
   "execution_count": 84
  }
 ],
 "metadata": {
  "kernelspec": {
   "display_name": "Python 3 (ipykernel)",
   "language": "python",
   "name": "python3"
  },
  "language_info": {
   "codemirror_mode": {
    "name": "ipython",
    "version": 3
   },
   "file_extension": ".py",
   "mimetype": "text/x-python",
   "name": "python",
   "nbconvert_exporter": "python",
   "pygments_lexer": "ipython3",
   "version": "3.11.5"
  }
 },
 "nbformat": 4,
 "nbformat_minor": 5
}
